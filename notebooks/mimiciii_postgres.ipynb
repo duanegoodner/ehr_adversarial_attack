{
 "cells": [
  {
   "attachments": {},
   "cell_type": "markdown",
   "metadata": {},
   "source": [
    "# PostgreSQL MIMIC-III database in a Docker container\n",
    "\n",
    "This notebook contains code "
   ]
  },
  {
   "cell_type": "code",
   "execution_count": null,
   "metadata": {},
   "outputs": [],
   "source": [
    "import docker\n",
    "import os\n",
    "import subprocess\n",
    "from pathlib import Path"
   ]
  },
  {
   "attachments": {},
   "cell_type": "markdown",
   "metadata": {},
   "source": [
    "sdfsdf"
   ]
  },
  {
   "cell_type": "code",
   "execution_count": 15,
   "metadata": {},
   "outputs": [],
   "source": [
    "notebook_dir = Path.cwd()\n",
    "project_root_dir = notebook_dir.parent\n",
    "docker_db_dir = project_root_dir / \"src\" / \"docker_db\"\n",
    "docker_compose_file = docker_db_dir / \"docker-compose.yml\"\n",
    "\n",
    "docker_client = docker.from_env()"
   ]
  },
  {
   "cell_type": "code",
   "execution_count": 16,
   "metadata": {},
   "outputs": [
    {
     "name": "stderr",
     "output_type": "stream",
     "text": [
      "Building mimic_db\n",
      "#1 [internal] load .dockerignore\n",
      "#1 transferring context: 2B done\n",
      "#1 DONE 0.0s\n",
      "\n",
      "#2 [internal] load build definition from Dockerfile\n",
      "#2 transferring dockerfile: 1.09kB done\n",
      "#2 DONE 0.0s\n",
      "\n",
      "#3 [internal] load metadata for docker.io/duanegoodner/dev_envs:postgres\n",
      "#3 DONE 0.0s\n",
      "\n",
      "#4 [1/4] FROM docker.io/duanegoodner/dev_envs:postgres\n",
      "#4 DONE 0.0s\n",
      "\n",
      "#5 [internal] load build context\n",
      "#5 transferring context: 1.70kB done\n",
      "#5 DONE 0.0s\n",
      "\n",
      "#6 [2/4] COPY ./mimic-code-fork/mimic-iii/buildmimic/docker/setup.sh   /docker-entrypoint-initdb.d/setup.sh\n",
      "#6 CACHED\n",
      "\n",
      "#7 [3/4] COPY ./mimic-code-fork/mimic-iii/buildmimic/docker   /docker-entrypoint-initdb.d/buildmimic/docker\n",
      "#7 CACHED\n",
      "\n",
      "#8 [4/4] COPY ./mimic-code-fork/mimic-iii/buildmimic/postgres   /docker-entrypoint-initdb.d/buildmimic/postgres\n",
      "#8 CACHED\n",
      "\n",
      "#9 exporting to image\n",
      "#9 exporting layers done\n",
      "#9 writing image sha256:ae7198b3d4c0ac1ef423d1c23303efacfefebd006790eed30fb3037ed366ff07 done\n",
      "#9 naming to docker.io/library/mimic_db done\n",
      "#9 DONE 0.0s\n"
     ]
    },
    {
     "data": {
      "text/plain": [
       "CompletedProcess(args=['docker-compose', '-f', '/home/duane/dproj/UIUC-DLH/project/ehr_adversarial_attack/src/docker_db/docker-compose.yml', 'build'], returncode=0)"
      ]
     },
     "execution_count": 16,
     "metadata": {},
     "output_type": "execute_result"
    }
   ],
   "source": [
    "subprocess.run([\"docker-compose\", \"-f\", str(docker_compose_file), \"build\"])"
   ]
  },
  {
   "cell_type": "code",
   "execution_count": 19,
   "metadata": {},
   "outputs": [
    {
     "name": "stderr",
     "output_type": "stream",
     "text": [
      "Creating network \"docker_db_default\" with the default driver\n",
      "Creating mimic_db ... \n",
      "Creating mimic_db ... done\n"
     ]
    },
    {
     "name": "stdout",
     "output_type": "stream",
     "text": [
      "Attaching to mimic_db\n",
      "\u001b[36mmimic_db    |\u001b[0m \n",
      "\u001b[36mmimic_db    |\u001b[0m PostgreSQL Database directory appears to contain a database; Skipping initialization\n",
      "\u001b[36mmimic_db    |\u001b[0m \n",
      "\u001b[36mmimic_db    |\u001b[0m 2023-05-11 00:27:22.311 UTC [7] LOG:  starting PostgreSQL 15.2 (Debian 15.2-1.pgdg110+1) on x86_64-pc-linux-gnu, compiled by gcc (Debian 10.2.1-6) 10.2.1 20210110, 64-bit\n",
      "\u001b[36mmimic_db    |\u001b[0m 2023-05-11 00:27:22.311 UTC [7] LOG:  listening on IPv4 address \"0.0.0.0\", port 5432\n",
      "\u001b[36mmimic_db    |\u001b[0m 2023-05-11 00:27:22.311 UTC [7] LOG:  listening on IPv6 address \"::\", port 5432\n",
      "\u001b[36mmimic_db    |\u001b[0m 2023-05-11 00:27:22.313 UTC [7] LOG:  listening on Unix socket \"/var/run/postgresql/.s.PGSQL.5432\"\n",
      "\u001b[36mmimic_db    |\u001b[0m 2023-05-11 00:27:22.316 UTC [30] LOG:  database system was shut down at 2023-05-11 00:27:13 UTC\n",
      "\u001b[36mmimic_db    |\u001b[0m 2023-05-11 00:27:22.319 UTC [7] LOG:  database system is ready to accept connections\n",
      "\u001b[36mmimic_db    |\u001b[0m 2023-05-11 00:29:53.651 UTC [7] LOG:  received fast shutdown request\n",
      "\u001b[36mmimic_db    |\u001b[0m 2023-05-11 00:29:53.652 UTC [7] LOG:  aborting any active transactions\n",
      "\u001b[36mmimic_db    |\u001b[0m 2023-05-11 00:29:53.653 UTC [7] LOG:  background worker \"logical replication launcher\" (PID 33) exited with exit code 1\n",
      "\u001b[36mmimic_db    |\u001b[0m 2023-05-11 00:29:53.654 UTC [28] LOG:  shutting down\n",
      "\u001b[36mmimic_db    |\u001b[0m 2023-05-11 00:29:53.654 UTC [28] LOG:  checkpoint starting: shutdown immediate\n",
      "\u001b[36mmimic_db    |\u001b[0m 2023-05-11 00:29:53.660 UTC [28] LOG:  checkpoint complete: wrote 3 buffers (0.0%); 0 WAL file(s) added, 0 removed, 0 recycled; write=0.002 s, sync=0.001 s, total=0.007 s; sync files=2, longest=0.001 s, average=0.001 s; distance=0 kB, estimate=0 kB\n",
      "\u001b[36mmimic_db    |\u001b[0m 2023-05-11 00:29:53.663 UTC [7] LOG:  database system is shut down\n",
      "\u001b[36mmimic_db exited with code 0\n",
      "\u001b[0m"
     ]
    },
    {
     "data": {
      "text/plain": [
       "CompletedProcess(args=['docker-compose', '-f', '/home/duane/dproj/UIUC-DLH/project/ehr_adversarial_attack/src/docker_db/docker-compose.yml', 'up'], returncode=0)"
      ]
     },
     "execution_count": 19,
     "metadata": {},
     "output_type": "execute_result"
    }
   ],
   "source": [
    "subprocess.run([\"docker-compose\", \"-f\", str(docker_compose_file), \"up\"])"
   ]
  },
  {
   "cell_type": "code",
   "execution_count": 20,
   "metadata": {},
   "outputs": [
    {
     "name": "stderr",
     "output_type": "stream",
     "text": [
      "Removing network docker_db_default\n",
      "Network docker_db_default not found.\n"
     ]
    },
    {
     "data": {
      "text/plain": [
       "CompletedProcess(args=['docker-compose', '-f', '/home/duane/dproj/UIUC-DLH/project/ehr_adversarial_attack/src/docker_db/docker-compose.yml', 'down'], returncode=0)"
      ]
     },
     "execution_count": 20,
     "metadata": {},
     "output_type": "execute_result"
    }
   ],
   "source": [
    "subprocess.run([\"docker-compose\", \"-f\", str(docker_compose_file), \"down\"])"
   ]
  }
 ],
 "metadata": {
  "kernelspec": {
   "display_name": "ehr_adversarial_attack",
   "language": "python",
   "name": "python3"
  },
  "language_info": {
   "codemirror_mode": {
    "name": "ipython",
    "version": 3
   },
   "file_extension": ".py",
   "mimetype": "text/x-python",
   "name": "python",
   "nbconvert_exporter": "python",
   "pygments_lexer": "ipython3",
   "version": "3.10.11"
  },
  "orig_nbformat": 4
 },
 "nbformat": 4,
 "nbformat_minor": 2
}
